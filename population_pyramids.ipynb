{
  "cells": [
    {
      "cell_type": "code",
      "execution_count": 2,
      "metadata": {
        "cellView": "form",
        "id": "zxK6_WJNArHv"
      },
      "outputs": [
        {
          "data": {
            "application/vnd.jupyter.widget-view+json": {
              "model_id": "497086863add4ba68b6edc0e8e8fe226",
              "version_major": 2,
              "version_minor": 0
            },
            "text/plain": [
              "Combobox(value='', description='Enter Year:', ensure_option=True, options=('2023', '2022', '2021', '2020', '20…"
            ]
          },
          "metadata": {},
          "output_type": "display_data"
        },
        {
          "data": {
            "application/vnd.jupyter.widget-view+json": {
              "model_id": "7e107a4a266245398ff28921eefed002",
              "version_major": 2,
              "version_minor": 0
            },
            "text/plain": [
              "Combobox(value='', description='Enter Country:', ensure_option=True, options=('Afghanistan', 'Africa (UN)', 'A…"
            ]
          },
          "metadata": {},
          "output_type": "display_data"
        },
        {
          "data": {
            "application/vnd.jupyter.widget-view+json": {
              "model_id": "02a588588ef546d39697f49957cd91cb",
              "version_major": 2,
              "version_minor": 0
            },
            "text/plain": [
              "Button(description='Plot Pyramid', style=ButtonStyle())"
            ]
          },
          "metadata": {},
          "output_type": "display_data"
        },
        {
          "data": {
            "application/vnd.jupyter.widget-view+json": {
              "model_id": "5590d9bd3d5b4842a89fae92344cc22e",
              "version_major": 2,
              "version_minor": 0
            },
            "text/plain": [
              "HBox(children=(Output(), Output()))"
            ]
          },
          "metadata": {},
          "output_type": "display_data"
        }
      ],
      "source": [
        "\n",
        "import pandas as pd\n",
        "import numpy as np\n",
        "import matplotlib.pyplot as plt\n",
        "import seaborn as sns\n",
        "import ipywidgets as widgets\n",
        "from IPython.display import display\n",
        "from IPython.display import display, HTML\n",
        "\n",
        "# Load female data\n",
        "female = pd.read_csv('https://ourworldindata.org/grapher/female-population-by-age-group.csv')\n",
        "female.columns = female.columns.str.replace('Population - Sex: female - Age: ', '')\n",
        "female.columns = female.columns.str.replace(' - Variant: estimates', '')\n",
        "\n",
        "# Load male data\n",
        "male = pd.read_csv('https://ourworldindata.org/grapher/male-population-by-age-group.csv')\n",
        "male.columns = male.columns.str.replace('Population - Sex: male - Age: ', '')\n",
        "male.columns = male.columns.str.replace(' - Variant: estimates', '')\n",
        "\n",
        "# Get unique years and countries for dropdown options\n",
        "years = sorted(female['Year'].unique().tolist(), reverse=True)\n",
        "countries = sorted(female['Entity'].unique().tolist())\n",
        "\n",
        "# Create dropdown widgets\n",
        "year_dropdown = widgets.Combobox(\n",
        "        options=[str(y) for y in years],\n",
        "        description='Enter Year:',\n",
        "        value=None,\n",
        "        ensure_option=True\n",
        ")\n",
        "\n",
        "country_dropdown = widgets.Combobox(\n",
        "        options=countries,\n",
        "        description='Enter Country:',\n",
        "        value=None,\n",
        "        ensure_option=True\n",
        ")\n",
        "\n",
        "# Create button\n",
        "plot_button = widgets.Button(description='Plot Pyramid')\n",
        "\n",
        "# Create output widgets\n",
        "plot_output = widgets.Output()\n",
        "data_output = widgets.Output()\n",
        "\n",
        "# Define button click handler\n",
        "def plot_population_pyramid(b):\n",
        "        plot_output.clear_output(wait=True)\n",
        "        data_output.clear_output(wait=True)\n",
        "\n",
        "        year = int(year_dropdown.value)\n",
        "        country = country_dropdown.value\n",
        "\n",
        "        # Filter female data\n",
        "        female_filtered = female[(female['Entity'] == country) & (female['Year'] == year)].reset_index(drop=True)\n",
        "        female_filtered = female_filtered.drop(columns=['Entity', 'Code', 'Year'])\n",
        "        female_filtered = female_filtered.melt(var_name='age_range', value_name='value')\n",
        "\n",
        "        # Filter male data\n",
        "        male_filtered = male[(male['Entity'] == country) & (male['Year'] == year)].reset_index(drop=True)\n",
        "        male_filtered = male_filtered.drop(columns=['Entity', 'Code', 'Year'])\n",
        "        male_filtered = male_filtered.melt(var_name='age_range', value_name='value')\n",
        "\n",
        "        # Merge data\n",
        "        population = pd.merge(male_filtered, female_filtered, on='age_range', suffixes=['_male','_female'])\n",
        "        \n",
        "        # Display dataframe in data_output\n",
        "        with data_output:\n",
        "                display(population)\n",
        "\n",
        "        # Create population pyramid in plot_output\n",
        "        with plot_output:\n",
        "                sns.set_style(\"whitegrid\")\n",
        "                fig, ax = plt.subplots(figsize=(12, 10))\n",
        "\n",
        "                # Plot male population (left side, negative values)\n",
        "                ax.barh(population['age_range'], -population['value_male'], height=0.8,\n",
        "                                label='Male', color='#4A90E2', alpha=0.8)\n",
        "                # Add male population values\n",
        "                for i, value in enumerate(population['value_male']):\n",
        "                    ax.text(-value, i, f'{value:,}', ha='right', va='center', fontsize=9)\n",
        "\n",
        "\n",
        "                # Plot female population (right side, positive values)\n",
        "                ax.barh(population['age_range'], population['value_female'], height=0.8,\n",
        "                                label='Female', color='#E74C3C', alpha=0.8)\n",
        "                # Add female population values\n",
        "                for i, value in enumerate(population['value_female']):\n",
        "                    ax.text(value, i, f'{value:,}', ha='left', va='center', fontsize=9)\n",
        "\n",
        "\n",
        "                # Customize the plot\n",
        "                ax.set_xlabel('Population', fontsize=12, fontweight='bold')\n",
        "                ax.set_ylabel('Age Range', fontsize=12, fontweight='bold')\n",
        "                ax.set_title(f'Population Pyramid - {country} ({year})', fontsize=16, fontweight='bold', pad=20)\n",
        "\n",
        "                # Format x-axis to show absolute values\n",
        "                max_val = max(population['value_male'].max(), population['value_female'].max())\n",
        "                ticks = range(0, int(max_val) + 50000, 50000)\n",
        "                ax.set_xticks([-t for t in ticks] + list(ticks))\n",
        "                ax.set_xticklabels([f'{abs(t):,}' for t in [-t for t in ticks] + list(ticks)])\n",
        "\n",
        "                # Add vertical line at zero\n",
        "                ax.axvline(0, color='black', linewidth=0.8)\n",
        "\n",
        "                # Add legend\n",
        "                ax.legend(loc='upper right', fontsize=11)\n",
        "\n",
        "                # Add grid\n",
        "                ax.grid(axis='x', alpha=0.3)\n",
        "\n",
        "                # Tight layout\n",
        "                plt.tight_layout()\n",
        "                plt.show()\n",
        "\n",
        "# Attach handler to button\n",
        "plot_button.on_click(plot_population_pyramid)\n",
        "\n",
        "# Display widgets\n",
        "display(year_dropdown, country_dropdown, plot_button)\n",
        "# Display plot and dataframe side by side\n",
        "display(widgets.HBox([plot_output, data_output]))\n"
      ]
    }
  ],
  "metadata": {
    "colab": {
      "provenance": []
    },
    "kernelspec": {
      "display_name": "base",
      "language": "python",
      "name": "python3"
    },
    "language_info": {
      "codemirror_mode": {
        "name": "ipython",
        "version": 3
      },
      "file_extension": ".py",
      "mimetype": "text/x-python",
      "name": "python",
      "nbconvert_exporter": "python",
      "pygments_lexer": "ipython3",
      "version": "3.13.5"
    }
  },
  "nbformat": 4,
  "nbformat_minor": 0
}
